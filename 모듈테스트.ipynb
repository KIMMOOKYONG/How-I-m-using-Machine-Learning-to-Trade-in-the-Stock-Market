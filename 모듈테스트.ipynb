{
  "nbformat": 4,
  "nbformat_minor": 0,
  "metadata": {
    "colab": {
      "name": "Untitled0.ipynb",
      "provenance": [],
      "authorship_tag": "ABX9TyP+q479xnhgwtUkiuHWi3KS",
      "include_colab_link": true
    },
    "kernelspec": {
      "name": "python3",
      "display_name": "Python 3"
    },
    "language_info": {
      "name": "python"
    }
  },
  "cells": [
    {
      "cell_type": "markdown",
      "metadata": {
        "id": "view-in-github",
        "colab_type": "text"
      },
      "source": [
        "<a href=\"https://colab.research.google.com/github/KIMMOOKYONG/How-I-m-using-Machine-Learning-to-Trade-in-the-Stock-Market/blob/main/%EB%AA%A8%EB%93%88%ED%85%8C%EC%8A%A4%ED%8A%B8.ipynb\" target=\"_parent\"><img src=\"https://colab.research.google.com/assets/colab-badge.svg\" alt=\"Open In Colab\"/></a>"
      ]
    },
    {
      "cell_type": "code",
      "execution_count": 46,
      "metadata": {
        "colab": {
          "base_uri": "https://localhost:8080/"
        },
        "id": "rswFTNqmmVTe",
        "outputId": "1eb0d7d0-ee54-4040-803b-a4a5a42db1dd"
      },
      "outputs": [
        {
          "output_type": "stream",
          "name": "stdout",
          "text": [
            "Cloning into 'How-I-m-using-Machine-Learning-to-Trade-in-the-Stock-Market'...\n",
            "remote: Enumerating objects: 112, done.\u001b[K\n",
            "remote: Counting objects: 100% (112/112), done.\u001b[K\n",
            "remote: Compressing objects: 100% (112/112), done.\u001b[K\n",
            "remote: Total 112 (delta 41), reused 0 (delta 0), pack-reused 0\u001b[K\n",
            "Receiving objects: 100% (112/112), 447.42 KiB | 5.59 MiB/s, done.\n",
            "Resolving deltas: 100% (41/41), done.\n"
          ]
        }
      ],
      "source": [
        "!git clone https://github.com/KIMMOOKYONG/How-I-m-using-Machine-Learning-to-Trade-in-the-Stock-Market.git"
      ]
    },
    {
      "cell_type": "code",
      "source": [
        "cd How-I-m-using-Machine-Learning-to-Trade-in-the-Stock-Market"
      ],
      "metadata": {
        "colab": {
          "base_uri": "https://localhost:8080/"
        },
        "id": "hVNSGUGPmYK2",
        "outputId": "e862036b-bff1-41a2-f22e-f837914d555b"
      },
      "execution_count": 47,
      "outputs": [
        {
          "output_type": "stream",
          "name": "stdout",
          "text": [
            "/content/How-I-m-using-Machine-Learning-to-Trade-in-the-Stock-Market\n"
          ]
        }
      ]
    },
    {
      "cell_type": "code",
      "source": [
        "cd .."
      ],
      "metadata": {
        "colab": {
          "base_uri": "https://localhost:8080/"
        },
        "id": "UTD8GwBStFrm",
        "outputId": "2ff0549f-3f4a-4f4a-ebda-67339447d95f"
      },
      "execution_count": 44,
      "outputs": [
        {
          "output_type": "stream",
          "name": "stdout",
          "text": [
            "/content\n"
          ]
        }
      ]
    },
    {
      "cell_type": "code",
      "source": [
        "rm -rf ./How-I-m-using-Machine-Learning-to-Trade-in-the-Stock-Market"
      ],
      "metadata": {
        "id": "6GJ21hd8nQQf"
      },
      "execution_count": 45,
      "outputs": []
    },
    {
      "cell_type": "code",
      "source": [
        "!python ./models/lr_run_training.py"
      ],
      "metadata": {
        "colab": {
          "base_uri": "https://localhost:8080/"
        },
        "id": "2j6oIN1No8mV",
        "outputId": "1859938f-d2f6-4830-b8c3-5e4fdc34dd67"
      },
      "execution_count": 48,
      "outputs": [
        {
          "output_type": "stream",
          "name": "stdout",
          "text": [
            "20 samples were fetched from the database..\n",
            "Created test and train data...\n",
            "Training model...\n",
            "Logistic regression model score: 1.0\n",
            "Saved the model and scaler in /content/How-I-m-using-Machine-Learning-to-Trade-in-the-Stock-Market/saved_models\n",
            "Figures saved in /content/How-I-m-using-Machine-Learning-to-Trade-in-the-Stock-Market/results/Confusion Matrices\n"
          ]
        }
      ]
    },
    {
      "cell_type": "code",
      "source": [
        "!python backtester.py"
      ],
      "metadata": {
        "colab": {
          "base_uri": "https://localhost:8080/"
        },
        "id": "wJp17nhiwtIl",
        "outputId": "42908d7e-f279-4006-cbe7-2325034aab0d"
      },
      "execution_count": 54,
      "outputs": [
        {
          "output_type": "stream",
          "name": "stdout",
          "text": [
            "Progress:   0% 1/364 [00:01<09:48,  1.62s/it]Traceback (most recent call last):\n",
            "  File \"backtester.py\", line 155, in <module>\n",
            "    back.backtest()\n",
            "  File \"backtester.py\", line 82, in backtest\n",
            "    self.sell_perc, self.hold_till, self.stop_perc)\n",
            "  File \"/content/How-I-m-using-Machine-Learning-to-Trade-in-the-Stock-Market/models/lr_inference.py\", line 68, in LR_v1_sell\n",
            "    current_price = get_stock_price(stock, todays_date) #current stock value\n",
            "  File \"/content/How-I-m-using-Machine-Learning-to-Trade-in-the-Stock-Market/stock_utils/stock_utils.py\", line 90, in get_stock_price\n",
            "    query = {'apikey': str(TD_API), 'startDate': timestamp(start_date), \\\n",
            "NameError: name 'TD_API' is not defined\n",
            "Progress:   0% 1/364 [00:01<10:07,  1.67s/it]\n"
          ]
        }
      ]
    },
    {
      "cell_type": "code",
      "source": [
        "pwd"
      ],
      "metadata": {
        "colab": {
          "base_uri": "https://localhost:8080/",
          "height": 35
        },
        "id": "WdzsIfk14dcK",
        "outputId": "6135077d-5588-4b1f-ee03-74354457c1ee"
      },
      "execution_count": 50,
      "outputs": [
        {
          "output_type": "execute_result",
          "data": {
            "text/plain": [
              "'/content/How-I-m-using-Machine-Learning-to-Trade-in-the-Stock-Market'"
            ],
            "application/vnd.google.colaboratory.intrinsic+json": {
              "type": "string"
            }
          },
          "metadata": {},
          "execution_count": 50
        }
      ]
    },
    {
      "cell_type": "code",
      "source": [
        ""
      ],
      "metadata": {
        "id": "xsGRvgX94hfh"
      },
      "execution_count": null,
      "outputs": []
    }
  ]
}